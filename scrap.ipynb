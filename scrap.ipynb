{
 "cells": [
  {
   "cell_type": "markdown",
   "metadata": {},
   "source": [
    "# Web Scraping using Python"
   ]
  },
  {
   "cell_type": "markdown",
   "metadata": {},
   "source": [
    "## The requests library"
   ]
  },
  {
   "cell_type": "code",
   "execution_count": 28,
   "metadata": {
    "collapsed": false
   },
   "outputs": [
    {
     "data": {
      "text/plain": [
       "<Response [200]>"
      ]
     },
     "execution_count": 28,
     "metadata": {},
     "output_type": "execute_result"
    }
   ],
   "source": [
    "import requests\n",
    "\n",
    "page = requests.get(\"https://shwetkm.github.io/A simple example page.html\")\n",
    "page"
   ]
  },
  {
   "cell_type": "code",
   "execution_count": 29,
   "metadata": {
    "collapsed": false
   },
   "outputs": [
    {
     "data": {
      "text/plain": [
       "'<!DOCTYPE html>\\n<html>\\n    <head>\\n        <title>A simple example page</title>\\n    </head>\\n    <body>\\n        <p>Here is some simple content for this page.</p>\\n    </body>\\n</html>'"
      ]
     },
     "execution_count": 29,
     "metadata": {},
     "output_type": "execute_result"
    }
   ],
   "source": [
    "page.content"
   ]
  },
  {
   "cell_type": "markdown",
   "metadata": {},
   "source": [
    "## Parsing a page with BeautifulSoup"
   ]
  },
  {
   "cell_type": "code",
   "execution_count": 30,
   "metadata": {
    "collapsed": true
   },
   "outputs": [],
   "source": [
    "from bs4 import BeautifulSoup\n",
    "soup = BeautifulSoup(page.content, 'html.parser')"
   ]
  },
  {
   "cell_type": "code",
   "execution_count": 31,
   "metadata": {
    "collapsed": false
   },
   "outputs": [
    {
     "name": "stdout",
     "output_type": "stream",
     "text": [
      "<!DOCTYPE html>\n",
      "<html>\n",
      " <head>\n",
      "  <title>\n",
      "   A simple example page\n",
      "  </title>\n",
      " </head>\n",
      " <body>\n",
      "  <p>\n",
      "   Here is some simple content for this page.\n",
      "  </p>\n",
      " </body>\n",
      "</html>\n"
     ]
    }
   ],
   "source": [
    "print(soup.prettify())"
   ]
  },
  {
   "cell_type": "code",
   "execution_count": 32,
   "metadata": {
    "collapsed": false
   },
   "outputs": [
    {
     "data": {
      "text/plain": [
       "[u'html',\n",
       " u'\\n',\n",
       " <html>\\n<head>\\n<title>A simple example page</title>\\n</head>\\n<body>\\n<p>Here is some simple content for this page.</p>\\n</body>\\n</html>]"
      ]
     },
     "execution_count": 32,
     "metadata": {},
     "output_type": "execute_result"
    }
   ],
   "source": [
    "list(soup.children)"
   ]
  },
  {
   "cell_type": "code",
   "execution_count": 33,
   "metadata": {
    "collapsed": false
   },
   "outputs": [
    {
     "data": {
      "text/plain": [
       "[bs4.element.Doctype, bs4.element.NavigableString, bs4.element.Tag]"
      ]
     },
     "execution_count": 33,
     "metadata": {},
     "output_type": "execute_result"
    }
   ],
   "source": [
    "[type(item) for item in list(soup.children)] "
   ]
  },
  {
   "cell_type": "code",
   "execution_count": 34,
   "metadata": {
    "collapsed": true
   },
   "outputs": [],
   "source": [
    "html = list(soup.children)[2]"
   ]
  },
  {
   "cell_type": "code",
   "execution_count": 35,
   "metadata": {
    "collapsed": false
   },
   "outputs": [
    {
     "data": {
      "text/plain": [
       "[u'\\n',\n",
       " <head>\\n<title>A simple example page</title>\\n</head>,\n",
       " u'\\n',\n",
       " <body>\\n<p>Here is some simple content for this page.</p>\\n</body>,\n",
       " u'\\n']"
      ]
     },
     "execution_count": 35,
     "metadata": {},
     "output_type": "execute_result"
    }
   ],
   "source": [
    "list(html.children)"
   ]
  },
  {
   "cell_type": "code",
   "execution_count": 36,
   "metadata": {
    "collapsed": true
   },
   "outputs": [],
   "source": [
    "body = list(html.children)[3]"
   ]
  },
  {
   "cell_type": "code",
   "execution_count": 37,
   "metadata": {
    "collapsed": false
   },
   "outputs": [
    {
     "data": {
      "text/plain": [
       "[u'\\n', <p>Here is some simple content for this page.</p>, u'\\n']"
      ]
     },
     "execution_count": 37,
     "metadata": {},
     "output_type": "execute_result"
    }
   ],
   "source": [
    "list(body.children)"
   ]
  },
  {
   "cell_type": "code",
   "execution_count": 38,
   "metadata": {
    "collapsed": true
   },
   "outputs": [],
   "source": [
    "p = list(body.children)[1]"
   ]
  },
  {
   "cell_type": "code",
   "execution_count": 39,
   "metadata": {
    "collapsed": false
   },
   "outputs": [
    {
     "data": {
      "text/plain": [
       "u'Here is some simple content for this page.'"
      ]
     },
     "execution_count": 39,
     "metadata": {},
     "output_type": "execute_result"
    }
   ],
   "source": [
    "p.get_text()"
   ]
  },
  {
   "cell_type": "markdown",
   "metadata": {},
   "source": [
    "## Finding all instances of a tag at once"
   ]
  },
  {
   "cell_type": "code",
   "execution_count": 40,
   "metadata": {
    "collapsed": false
   },
   "outputs": [
    {
     "data": {
      "text/plain": [
       "[<p>Here is some simple content for this page.</p>]"
      ]
     },
     "execution_count": 40,
     "metadata": {},
     "output_type": "execute_result"
    }
   ],
   "source": [
    "soup = BeautifulSoup(page.content, 'html.parser')\n",
    "soup.find_all('p')"
   ]
  },
  {
   "cell_type": "code",
   "execution_count": 41,
   "metadata": {
    "collapsed": false
   },
   "outputs": [
    {
     "data": {
      "text/plain": [
       "u'Here is some simple content for this page.'"
      ]
     },
     "execution_count": 41,
     "metadata": {},
     "output_type": "execute_result"
    }
   ],
   "source": [
    "soup.find_all('p')[0].get_text()"
   ]
  },
  {
   "cell_type": "markdown",
   "metadata": {},
   "source": [
    "## Searching for tags by class and id"
   ]
  },
  {
   "cell_type": "code",
   "execution_count": 43,
   "metadata": {
    "collapsed": false
   },
   "outputs": [
    {
     "name": "stdout",
     "output_type": "stream",
     "text": [
      "<html>\n",
      " <head>\n",
      "  <title>\n",
      "   A simple example page\n",
      "  </title>\n",
      " </head>\n",
      " <body>\n",
      "  <div>\n",
      "   <p class=\"inner-text first-item\" id=\"first\">\n",
      "    First paragraph.\n",
      "   </p>\n",
      "   <p class=\"inner-text\">\n",
      "    Second paragraph.\n",
      "   </p>\n",
      "  </div>\n",
      "  <p class=\"outer-text first-item\" id=\"second\">\n",
      "   <b>\n",
      "    First outer paragraph.\n",
      "   </b>\n",
      "  </p>\n",
      "  <p class=\"outer-text\">\n",
      "   <b>\n",
      "    Second outer paragraph.\n",
      "   </b>\n",
      "  </p>\n",
      " </body>\n",
      "</html>\n",
      "\n"
     ]
    }
   ],
   "source": [
    "page = requests.get(\"https://shwetkm.github.io/ids-classes.html\")\n",
    "soup = BeautifulSoup(page.content, 'html.parser')\n",
    "print(soup.prettify())"
   ]
  },
  {
   "cell_type": "code",
   "execution_count": 44,
   "metadata": {
    "collapsed": false
   },
   "outputs": [
    {
     "data": {
      "text/plain": [
       "[<p class=\"outer-text first-item\" id=\"second\">\\n<b>\\n                First outer paragraph.\\n            </b>\\n</p>,\n",
       " <p class=\"outer-text\">\\n<b>\\n                Second outer paragraph.\\n            </b>\\n</p>]"
      ]
     },
     "execution_count": 44,
     "metadata": {},
     "output_type": "execute_result"
    }
   ],
   "source": [
    "soup.find_all('p', class_='outer-text')"
   ]
  },
  {
   "cell_type": "code",
   "execution_count": 45,
   "metadata": {
    "collapsed": false
   },
   "outputs": [
    {
     "data": {
      "text/plain": [
       "[<p class=\"outer-text first-item\" id=\"second\">\\n<b>\\n                First outer paragraph.\\n            </b>\\n</p>,\n",
       " <p class=\"outer-text\">\\n<b>\\n                Second outer paragraph.\\n            </b>\\n</p>]"
      ]
     },
     "execution_count": 45,
     "metadata": {},
     "output_type": "execute_result"
    }
   ],
   "source": [
    "soup.find_all(class_=\"outer-text\")"
   ]
  },
  {
   "cell_type": "code",
   "execution_count": 46,
   "metadata": {
    "collapsed": false
   },
   "outputs": [
    {
     "data": {
      "text/plain": [
       "[<p class=\"inner-text first-item\" id=\"first\">\\n                First paragraph.\\n            </p>]"
      ]
     },
     "execution_count": 46,
     "metadata": {},
     "output_type": "execute_result"
    }
   ],
   "source": [
    "soup.find_all(id=\"first\")"
   ]
  },
  {
   "cell_type": "markdown",
   "metadata": {},
   "source": [
    "## Using CSS Selectors\n",
    "You can also search for items using CSS selectors. These selectors are how the CSS language allows developers to specify HTML tags to style. Here are some examples:\n",
    "\n",
    "<strong>p a</strong> – finds all a tags inside of a p tag.\n",
    "\n",
    "<strong>body p a</strong> – finds all a tags inside of a p tag inside of a body tag.\n",
    "\n",
    "<strong>html body</strong> – finds all body tags inside of an html tag.\n",
    "\n",
    "<strong>p.outer-text</strong> – finds all p tags with a class of outer-text.\n",
    "\n",
    "<strong>p#first</strong> – finds all p tags with an id of first.\n",
    "\n",
    "<strong>body p.outer-text</strong> – finds any p tags with a class of outer-text inside of a body tag.\n",
    "\n",
    "BeautifulSoup objects support searching a page via CSS selectors using the select method. We can use CSS selectors to find all the p tags in our page that are inside of a div like this:"
   ]
  },
  {
   "cell_type": "code",
   "execution_count": 47,
   "metadata": {
    "collapsed": false
   },
   "outputs": [
    {
     "data": {
      "text/plain": [
       "[<p class=\"inner-text first-item\" id=\"first\">\\n                First paragraph.\\n            </p>,\n",
       " <p class=\"inner-text\">\\n                Second paragraph.\\n            </p>]"
      ]
     },
     "execution_count": 47,
     "metadata": {},
     "output_type": "execute_result"
    }
   ],
   "source": [
    "soup.select(\"div p\")"
   ]
  },
  {
   "cell_type": "markdown",
   "metadata": {},
   "source": [
    "# Scraping Weather Data\n",
    "\n",
    "We now know enough to proceed with extracting information about the local weather from the National Weather Service website. The first step is to find the page we want to scrape. We’ll extract weather information about downtown San Francisco from <a href=\"http://forecast.weather.gov/MapClick.php?lat=37.7772&lon=-122.4168#.WM13Xzt9600\">this</a> page."
   ]
  },
  {
   "cell_type": "code",
   "execution_count": 48,
   "metadata": {
    "collapsed": false
   },
   "outputs": [
    {
     "name": "stdout",
     "output_type": "stream",
     "text": [
      "<div class=\"tombstone-container\">\n",
      " <p class=\"period-name\">\n",
      "  Tonight\n",
      "  <br>\n",
      "   <br/>\n",
      "  </br>\n",
      " </p>\n",
      " <p>\n",
      "  <img alt=\"Tonight: Cloudy, with a low around 55. West southwest wind 5 to 10 mph becoming light and variable  after midnight. \" class=\"forecast-icon\" src=\"newimages/medium/novc.png\" title=\"Tonight: Cloudy, with a low around 55. West southwest wind 5 to 10 mph becoming light and variable  after midnight. \"/>\n",
      " </p>\n",
      " <p class=\"short-desc\">\n",
      "  Cloudy\n",
      " </p>\n",
      " <p class=\"temp temp-low\">\n",
      "  Low: 55 °F\n",
      " </p>\n",
      "</div>\n"
     ]
    }
   ],
   "source": [
    "page = requests.get(\"http://forecast.weather.gov/MapClick.php?lat=37.7772&lon=-122.4168\")\n",
    "soup = BeautifulSoup(page.content, 'html.parser')\n",
    "seven_day = soup.find(id=\"seven-day-forecast\")\n",
    "forecast_items = seven_day.find_all(class_=\"tombstone-container\")\n",
    "tonight = forecast_items[0]\n",
    "print(tonight.prettify())"
   ]
  },
  {
   "cell_type": "code",
   "execution_count": 49,
   "metadata": {
    "collapsed": false
   },
   "outputs": [
    {
     "name": "stdout",
     "output_type": "stream",
     "text": [
      "Tonight\n",
      "Cloudy\n",
      "Low: 55 °F\n"
     ]
    }
   ],
   "source": [
    "period = tonight.find(class_=\"period-name\").get_text()\n",
    "short_desc = tonight.find(class_=\"short-desc\").get_text()\n",
    "temp = tonight.find(class_=\"temp\").get_text()\n",
    "\n",
    "print(period)\n",
    "print(short_desc)\n",
    "print(temp)"
   ]
  },
  {
   "cell_type": "code",
   "execution_count": 50,
   "metadata": {
    "collapsed": false
   },
   "outputs": [
    {
     "name": "stdout",
     "output_type": "stream",
     "text": [
      "Tonight: Cloudy, with a low around 55. West southwest wind 5 to 10 mph becoming light and variable  after midnight. \n"
     ]
    }
   ],
   "source": [
    "img = tonight.find(\"img\")\n",
    "desc = img['title']\n",
    "\n",
    "print(desc)"
   ]
  },
  {
   "cell_type": "markdown",
   "metadata": {},
   "source": [
    "## Extracting all the information from the page\n"
   ]
  },
  {
   "cell_type": "code",
   "execution_count": 51,
   "metadata": {
    "collapsed": false
   },
   "outputs": [
    {
     "data": {
      "text/plain": [
       "[u'Tonight',\n",
       " u'Sunday',\n",
       " u'SundayNight',\n",
       " u'Monday',\n",
       " u'MondayNight',\n",
       " u'Tuesday',\n",
       " u'TuesdayNight',\n",
       " u'Wednesday',\n",
       " u'WednesdayNight']"
      ]
     },
     "execution_count": 51,
     "metadata": {},
     "output_type": "execute_result"
    }
   ],
   "source": [
    "period_tags = seven_day.select(\".tombstone-container .period-name\")\n",
    "periods = [pt.get_text() for pt in period_tags]\n",
    "periods"
   ]
  },
  {
   "cell_type": "code",
   "execution_count": 52,
   "metadata": {
    "collapsed": false
   },
   "outputs": [
    {
     "name": "stdout",
     "output_type": "stream",
     "text": [
      "[u'Cloudy', u'Cloudy', u'Slight ChanceShowers', u'Chance Rain', u'ShowersLikely andBreezy', u'ChanceShowers', u'ChanceShowers', u'ChanceShowers', u'Slight ChanceShowers']\n",
      "[u'Low: 55 \\xb0F', u'High: 66 \\xb0F', u'Low: 55 \\xb0F', u'High: 66 \\xb0F', u'Low: 56 \\xb0F', u'High: 64 \\xb0F', u'Low: 52 \\xb0F', u'High: 61 \\xb0F', u'Low: 50 \\xb0F']\n",
      "[u'Tonight: Cloudy, with a low around 55. West southwest wind 5 to 10 mph becoming light and variable  after midnight. ', u'Sunday: Cloudy, with a high near 66. Light and variable wind becoming west southwest 6 to 11 mph in the afternoon. ', u'Sunday Night: A 20 percent chance of showers after 11pm.  Cloudy, with a low around 55. Southwest wind 6 to 14 mph, with gusts as high as 18 mph.  New precipitation amounts of less than a tenth of an inch possible. ', u'Monday: A 40 percent chance of rain.  Cloudy, with a high near 66. Southeast wind 9 to 14 mph, with gusts as high as 18 mph.  New precipitation amounts of less than a tenth of an inch possible. ', u'Monday Night: Showers likely.  Cloudy, with a low around 56. Breezy, with a south wind 19 to 24 mph decreasing to 13 to 18 mph in the evening. Winds could gust as high as 31 mph.  Chance of precipitation is 70%. New precipitation amounts between a quarter and half of an inch possible. ', u'Tuesday: A chance of showers, with thunderstorms also possible after 11am.  Mostly cloudy, with a high near 64. Chance of precipitation is 40%. New rainfall amounts between a tenth and quarter of an inch, except higher amounts possible in thunderstorms. ', u'Tuesday Night: A 30 percent chance of showers.  Mostly cloudy, with a low around 52.', u'Wednesday: A chance of showers, with thunderstorms also possible after 11am.  Mostly cloudy, with a high near 61.', u'Wednesday Night: A slight chance of showers.  Mostly cloudy, with a low around 50.']\n"
     ]
    }
   ],
   "source": [
    "short_descs = [sd.get_text() for sd in seven_day.select(\".tombstone-container .short-desc\")]\n",
    "temps = [t.get_text() for t in seven_day.select(\".tombstone-container .temp\")]\n",
    "descs = [d[\"title\"] for d in seven_day.select(\".tombstone-container img\")]\n",
    "\n",
    "print(short_descs)\n",
    "print(temps)\n",
    "print(descs)"
   ]
  },
  {
   "cell_type": "markdown",
   "metadata": {},
   "source": [
    "## Combining our data into a Pandas Dataframe\n"
   ]
  },
  {
   "cell_type": "code",
   "execution_count": 53,
   "metadata": {
    "collapsed": false
   },
   "outputs": [
    {
     "data": {
      "text/html": [
       "<div>\n",
       "<table border=\"1\" class=\"dataframe\">\n",
       "  <thead>\n",
       "    <tr style=\"text-align: right;\">\n",
       "      <th></th>\n",
       "      <th>desc</th>\n",
       "      <th>period</th>\n",
       "      <th>short_desc</th>\n",
       "      <th>temp</th>\n",
       "    </tr>\n",
       "  </thead>\n",
       "  <tbody>\n",
       "    <tr>\n",
       "      <th>0</th>\n",
       "      <td>Tonight: Cloudy, with a low around 55. West so...</td>\n",
       "      <td>Tonight</td>\n",
       "      <td>Cloudy</td>\n",
       "      <td>Low: 55 °F</td>\n",
       "    </tr>\n",
       "    <tr>\n",
       "      <th>1</th>\n",
       "      <td>Sunday: Cloudy, with a high near 66. Light and...</td>\n",
       "      <td>Sunday</td>\n",
       "      <td>Cloudy</td>\n",
       "      <td>High: 66 °F</td>\n",
       "    </tr>\n",
       "    <tr>\n",
       "      <th>2</th>\n",
       "      <td>Sunday Night: A 20 percent chance of showers a...</td>\n",
       "      <td>SundayNight</td>\n",
       "      <td>Slight ChanceShowers</td>\n",
       "      <td>Low: 55 °F</td>\n",
       "    </tr>\n",
       "    <tr>\n",
       "      <th>3</th>\n",
       "      <td>Monday: A 40 percent chance of rain.  Cloudy, ...</td>\n",
       "      <td>Monday</td>\n",
       "      <td>Chance Rain</td>\n",
       "      <td>High: 66 °F</td>\n",
       "    </tr>\n",
       "    <tr>\n",
       "      <th>4</th>\n",
       "      <td>Monday Night: Showers likely.  Cloudy, with a ...</td>\n",
       "      <td>MondayNight</td>\n",
       "      <td>ShowersLikely andBreezy</td>\n",
       "      <td>Low: 56 °F</td>\n",
       "    </tr>\n",
       "    <tr>\n",
       "      <th>5</th>\n",
       "      <td>Tuesday: A chance of showers, with thunderstor...</td>\n",
       "      <td>Tuesday</td>\n",
       "      <td>ChanceShowers</td>\n",
       "      <td>High: 64 °F</td>\n",
       "    </tr>\n",
       "    <tr>\n",
       "      <th>6</th>\n",
       "      <td>Tuesday Night: A 30 percent chance of showers....</td>\n",
       "      <td>TuesdayNight</td>\n",
       "      <td>ChanceShowers</td>\n",
       "      <td>Low: 52 °F</td>\n",
       "    </tr>\n",
       "    <tr>\n",
       "      <th>7</th>\n",
       "      <td>Wednesday: A chance of showers, with thunderst...</td>\n",
       "      <td>Wednesday</td>\n",
       "      <td>ChanceShowers</td>\n",
       "      <td>High: 61 °F</td>\n",
       "    </tr>\n",
       "    <tr>\n",
       "      <th>8</th>\n",
       "      <td>Wednesday Night: A slight chance of showers.  ...</td>\n",
       "      <td>WednesdayNight</td>\n",
       "      <td>Slight ChanceShowers</td>\n",
       "      <td>Low: 50 °F</td>\n",
       "    </tr>\n",
       "  </tbody>\n",
       "</table>\n",
       "</div>"
      ],
      "text/plain": [
       "                                                desc          period  \\\n",
       "0  Tonight: Cloudy, with a low around 55. West so...         Tonight   \n",
       "1  Sunday: Cloudy, with a high near 66. Light and...          Sunday   \n",
       "2  Sunday Night: A 20 percent chance of showers a...     SundayNight   \n",
       "3  Monday: A 40 percent chance of rain.  Cloudy, ...          Monday   \n",
       "4  Monday Night: Showers likely.  Cloudy, with a ...     MondayNight   \n",
       "5  Tuesday: A chance of showers, with thunderstor...         Tuesday   \n",
       "6  Tuesday Night: A 30 percent chance of showers....    TuesdayNight   \n",
       "7  Wednesday: A chance of showers, with thunderst...       Wednesday   \n",
       "8  Wednesday Night: A slight chance of showers.  ...  WednesdayNight   \n",
       "\n",
       "                short_desc         temp  \n",
       "0                   Cloudy   Low: 55 °F  \n",
       "1                   Cloudy  High: 66 °F  \n",
       "2     Slight ChanceShowers   Low: 55 °F  \n",
       "3              Chance Rain  High: 66 °F  \n",
       "4  ShowersLikely andBreezy   Low: 56 °F  \n",
       "5            ChanceShowers  High: 64 °F  \n",
       "6            ChanceShowers   Low: 52 °F  \n",
       "7            ChanceShowers  High: 61 °F  \n",
       "8     Slight ChanceShowers   Low: 50 °F  "
      ]
     },
     "execution_count": 53,
     "metadata": {},
     "output_type": "execute_result"
    }
   ],
   "source": [
    "import pandas as pd\n",
    "weather = pd.DataFrame({\n",
    "        \"period\": periods, \n",
    "        \"short_desc\": short_descs, \n",
    "        \"temp\": temps, \n",
    "        \"desc\":descs\n",
    "    })\n",
    "weather\n"
   ]
  },
  {
   "cell_type": "code",
   "execution_count": 55,
   "metadata": {
    "collapsed": false
   },
   "outputs": [
    {
     "data": {
      "text/html": [
       "<div>\n",
       "<table border=\"1\" class=\"dataframe\">\n",
       "  <thead>\n",
       "    <tr style=\"text-align: right;\">\n",
       "      <th></th>\n",
       "      <th>desc</th>\n",
       "      <th>period</th>\n",
       "      <th>short_desc</th>\n",
       "      <th>temp</th>\n",
       "      <th>temp_num</th>\n",
       "    </tr>\n",
       "  </thead>\n",
       "  <tbody>\n",
       "    <tr>\n",
       "      <th>0</th>\n",
       "      <td>Tonight: Cloudy, with a low around 55. West so...</td>\n",
       "      <td>Tonight</td>\n",
       "      <td>Cloudy</td>\n",
       "      <td>Low: 55 °F</td>\n",
       "      <td>55</td>\n",
       "    </tr>\n",
       "    <tr>\n",
       "      <th>1</th>\n",
       "      <td>Sunday: Cloudy, with a high near 66. Light and...</td>\n",
       "      <td>Sunday</td>\n",
       "      <td>Cloudy</td>\n",
       "      <td>High: 66 °F</td>\n",
       "      <td>66</td>\n",
       "    </tr>\n",
       "    <tr>\n",
       "      <th>2</th>\n",
       "      <td>Sunday Night: A 20 percent chance of showers a...</td>\n",
       "      <td>SundayNight</td>\n",
       "      <td>Slight ChanceShowers</td>\n",
       "      <td>Low: 55 °F</td>\n",
       "      <td>55</td>\n",
       "    </tr>\n",
       "    <tr>\n",
       "      <th>3</th>\n",
       "      <td>Monday: A 40 percent chance of rain.  Cloudy, ...</td>\n",
       "      <td>Monday</td>\n",
       "      <td>Chance Rain</td>\n",
       "      <td>High: 66 °F</td>\n",
       "      <td>66</td>\n",
       "    </tr>\n",
       "    <tr>\n",
       "      <th>4</th>\n",
       "      <td>Monday Night: Showers likely.  Cloudy, with a ...</td>\n",
       "      <td>MondayNight</td>\n",
       "      <td>ShowersLikely andBreezy</td>\n",
       "      <td>Low: 56 °F</td>\n",
       "      <td>56</td>\n",
       "    </tr>\n",
       "    <tr>\n",
       "      <th>5</th>\n",
       "      <td>Tuesday: A chance of showers, with thunderstor...</td>\n",
       "      <td>Tuesday</td>\n",
       "      <td>ChanceShowers</td>\n",
       "      <td>High: 64 °F</td>\n",
       "      <td>64</td>\n",
       "    </tr>\n",
       "    <tr>\n",
       "      <th>6</th>\n",
       "      <td>Tuesday Night: A 30 percent chance of showers....</td>\n",
       "      <td>TuesdayNight</td>\n",
       "      <td>ChanceShowers</td>\n",
       "      <td>Low: 52 °F</td>\n",
       "      <td>52</td>\n",
       "    </tr>\n",
       "    <tr>\n",
       "      <th>7</th>\n",
       "      <td>Wednesday: A chance of showers, with thunderst...</td>\n",
       "      <td>Wednesday</td>\n",
       "      <td>ChanceShowers</td>\n",
       "      <td>High: 61 °F</td>\n",
       "      <td>61</td>\n",
       "    </tr>\n",
       "    <tr>\n",
       "      <th>8</th>\n",
       "      <td>Wednesday Night: A slight chance of showers.  ...</td>\n",
       "      <td>WednesdayNight</td>\n",
       "      <td>Slight ChanceShowers</td>\n",
       "      <td>Low: 50 °F</td>\n",
       "      <td>50</td>\n",
       "    </tr>\n",
       "  </tbody>\n",
       "</table>\n",
       "</div>"
      ],
      "text/plain": [
       "                                                desc          period  \\\n",
       "0  Tonight: Cloudy, with a low around 55. West so...         Tonight   \n",
       "1  Sunday: Cloudy, with a high near 66. Light and...          Sunday   \n",
       "2  Sunday Night: A 20 percent chance of showers a...     SundayNight   \n",
       "3  Monday: A 40 percent chance of rain.  Cloudy, ...          Monday   \n",
       "4  Monday Night: Showers likely.  Cloudy, with a ...     MondayNight   \n",
       "5  Tuesday: A chance of showers, with thunderstor...         Tuesday   \n",
       "6  Tuesday Night: A 30 percent chance of showers....    TuesdayNight   \n",
       "7  Wednesday: A chance of showers, with thunderst...       Wednesday   \n",
       "8  Wednesday Night: A slight chance of showers.  ...  WednesdayNight   \n",
       "\n",
       "                short_desc         temp  temp_num  \n",
       "0                   Cloudy   Low: 55 °F        55  \n",
       "1                   Cloudy  High: 66 °F        66  \n",
       "2     Slight ChanceShowers   Low: 55 °F        55  \n",
       "3              Chance Rain  High: 66 °F        66  \n",
       "4  ShowersLikely andBreezy   Low: 56 °F        56  \n",
       "5            ChanceShowers  High: 64 °F        64  \n",
       "6            ChanceShowers   Low: 52 °F        52  \n",
       "7            ChanceShowers  High: 61 °F        61  \n",
       "8     Slight ChanceShowers   Low: 50 °F        50  "
      ]
     },
     "execution_count": 55,
     "metadata": {},
     "output_type": "execute_result"
    }
   ],
   "source": [
    "temp_nums = weather[\"temp\"].str.extract(\"(?P<temp_num>\\d+)\", expand=False)\n",
    "weather[\"temp_num\"] = temp_nums.astype('int')\n",
    "temp_nums\n",
    "weather"
   ]
  },
  {
   "cell_type": "code",
   "execution_count": 56,
   "metadata": {
    "collapsed": false
   },
   "outputs": [
    {
     "data": {
      "text/plain": [
       "58.333333333333336"
      ]
     },
     "execution_count": 56,
     "metadata": {},
     "output_type": "execute_result"
    }
   ],
   "source": [
    "weather[\"temp_num\"].mean()"
   ]
  },
  {
   "cell_type": "code",
   "execution_count": null,
   "metadata": {
    "collapsed": true
   },
   "outputs": [],
   "source": []
  }
 ],
 "metadata": {
  "kernelspec": {
   "display_name": "Python 2",
   "language": "python",
   "name": "python2"
  },
  "language_info": {
   "codemirror_mode": {
    "name": "ipython",
    "version": 2
   },
   "file_extension": ".py",
   "mimetype": "text/x-python",
   "name": "python",
   "nbconvert_exporter": "python",
   "pygments_lexer": "ipython2",
   "version": "2.7.11"
  }
 },
 "nbformat": 4,
 "nbformat_minor": 0
}
